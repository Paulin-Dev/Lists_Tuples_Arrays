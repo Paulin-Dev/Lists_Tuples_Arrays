{
 "cells": [
  {
   "cell_type": "markdown",
   "metadata": {},
   "source": [
    "# Python : listes, tuples et tableaux"
   ]
  },
  {
   "cell_type": "markdown",
   "metadata": {},
   "source": [
    "Les **listes**, les **tuples** et les **tableaux** servent à stocker plusieurs items dans une seule variable"
   ]
  },
  {
   "cell_type": "markdown",
   "metadata": {},
   "source": [
    "## Les listes"
   ]
  },
  {
   "cell_type": "markdown",
   "metadata": {},
   "source": [
    "Pour créer une liste, on utilise des **crochets**\n",
    "\n",
    "Une liste peut stocker différents types de données (string, int, bool...)\n",
    "\n",
    "> NB : On peut afficher la longueur d'une liste grâce à la méthode `len()`"
   ]
  },
  {
   "cell_type": "code",
   "execution_count": 1,
   "metadata": {},
   "outputs": [
    {
     "name": "stdout",
     "output_type": "stream",
     "text": [
      "['un', 'deux', 'trois']\n",
      "3\n"
     ]
    }
   ],
   "source": [
    "ma_liste = [\"un\", \"deux\", \"trois\"]\n",
    "print(ma_liste)\n",
    "\n",
    "print(len(ma_liste))"
   ]
  },
  {
   "cell_type": "markdown",
   "metadata": {},
   "source": [
    "Les listes :\n",
    "- sont **ordonnées**\n",
    "- autorisent **plusieurs fois une même valeur**\n",
    "- sont **modifiables**"
   ]
  },
  {
   "cell_type": "markdown",
   "metadata": {},
   "source": [
    "On peut donc modifier, ajouter ou supprimer des items à une liste   \n",
    "\n",
    "> NB : Si on ajoute un nouvel élément à une liste avec la méthode `append()`, il sera placé à la fin "
   ]
  },
  {
   "cell_type": "code",
   "execution_count": 2,
   "metadata": {},
   "outputs": [
    {
     "name": "stdout",
     "output_type": "stream",
     "text": [
      "['un', 'deux', 'trois', 'quatre']\n"
     ]
    }
   ],
   "source": [
    "ma_liste.append(\"quatre\")\n",
    "print(ma_liste)"
   ]
  },
  {
   "cell_type": "code",
   "execution_count": 3,
   "metadata": {},
   "outputs": [
    {
     "name": "stdout",
     "output_type": "stream",
     "text": [
      "['un', 'trois', 'quatre']\n"
     ]
    }
   ],
   "source": [
    "ma_liste.remove(\"deux\")\n",
    "print(ma_liste)"
   ]
  },
  {
   "cell_type": "code",
   "execution_count": 4,
   "metadata": {},
   "outputs": [
    {
     "name": "stdout",
     "output_type": "stream",
     "text": [
      "['1', 'trois', 'quatre']\n"
     ]
    }
   ],
   "source": [
    "ma_liste[0] = \"1\"\n",
    "print(ma_liste)"
   ]
  },
  {
   "cell_type": "markdown",
   "metadata": {},
   "source": [
    "## Les tuples"
   ]
  },
  {
   "cell_type": "markdown",
   "metadata": {},
   "source": [
    "Pour créer un tuple, on utilise des **parenthèses**\n",
    "\n",
    "Un tuple peut stocker différents types de données (string, int, bool...)\n",
    "\n",
    "> NB : Comme pour les listes, on peut afficher la longueur d'un tuple grâce à la méthode `len()`"
   ]
  },
  {
   "cell_type": "code",
   "execution_count": 5,
   "metadata": {},
   "outputs": [
    {
     "name": "stdout",
     "output_type": "stream",
     "text": [
      "('un', 'deux', 'trois')\n",
      "3\n"
     ]
    }
   ],
   "source": [
    "mon_tuple = (\"un\", \"deux\", \"trois\")\n",
    "print(mon_tuple)\n",
    "\n",
    "print(len(mon_tuple))"
   ]
  },
  {
   "cell_type": "markdown",
   "metadata": {},
   "source": [
    "Les tuples :\n",
    "- sont **ordonnés**\n",
    "- autorisent **plusieurs fois la même valeur**\n",
    "- **ne sont pas modifiables**"
   ]
  },
  {
   "cell_type": "markdown",
   "metadata": {},
   "source": [
    "On ne peut donc pas modifier, ajouter ni supprimer d'items à un tuple"
   ]
  },
  {
   "cell_type": "markdown",
   "metadata": {},
   "source": [
    "Si l'on cherche à modifier la première valeur de notre tuple, on obtient alors une *erreur* :"
   ]
  },
  {
   "cell_type": "code",
   "execution_count": 6,
   "metadata": {},
   "outputs": [
    {
     "ename": "TypeError",
     "evalue": "'tuple' object does not support item assignment",
     "output_type": "error",
     "traceback": [
      "\u001b[1;31m---------------------------------------------------------------------------\u001b[0m",
      "\u001b[1;31mTypeError\u001b[0m                                 Traceback (most recent call last)",
      "\u001b[1;32m~\\AppData\\Local\\Temp/ipykernel_17528/1610019807.py\u001b[0m in \u001b[0;36m<module>\u001b[1;34m\u001b[0m\n\u001b[1;32m----> 1\u001b[1;33m \u001b[0mmon_tuple\u001b[0m\u001b[1;33m[\u001b[0m\u001b[1;36m0\u001b[0m\u001b[1;33m]\u001b[0m \u001b[1;33m=\u001b[0m \u001b[1;34m\"un\"\u001b[0m\u001b[1;33m\u001b[0m\u001b[1;33m\u001b[0m\u001b[0m\n\u001b[0m\u001b[0;32m      2\u001b[0m \u001b[0mprint\u001b[0m\u001b[1;33m(\u001b[0m\u001b[0mmon_tuple\u001b[0m\u001b[1;33m)\u001b[0m\u001b[1;33m\u001b[0m\u001b[1;33m\u001b[0m\u001b[0m\n",
      "\u001b[1;31mTypeError\u001b[0m: 'tuple' object does not support item assignment"
     ]
    }
   ],
   "source": [
    "mon_tuple[0] = \"un\"\n",
    "print(mon_tuple)"
   ]
  },
  {
   "cell_type": "markdown",
   "metadata": {},
   "source": [
    "## Les tableaux"
   ]
  },
  {
   "cell_type": "markdown",
   "metadata": {},
   "source": [
    "En python, pour utiliser des tableaux, il faut importer un **module** : comme `array` ou `numpy`\n",
    "\n",
    "> NB : Les tableaux du module `array` n'autorisent pas différents types de données pour un même tableau et il faut préciser le type, contrairement au module `numpy`"
   ]
  },
  {
   "cell_type": "code",
   "execution_count": 7,
   "metadata": {},
   "outputs": [
    {
     "name": "stdout",
     "output_type": "stream",
     "text": [
      "<class 'array.array'> array('i', [1, 5, 6, 9, 10])\n"
     ]
    }
   ],
   "source": [
    "import array\n",
    "\n",
    "mon_tableau = array.array(\"i\", [1, 5, 6, 9, 10])  # le \"i\" indique que les éléments sont des entiers\n",
    "print(type(mon_tableau), mon_tableau)"
   ]
  },
  {
   "cell_type": "code",
   "execution_count": 8,
   "metadata": {},
   "outputs": [
    {
     "name": "stdout",
     "output_type": "stream",
     "text": [
      "<class 'numpy.ndarray'> ['un' 'deux' '3' 'True']\n"
     ]
    }
   ],
   "source": [
    "import numpy\n",
    "\n",
    "mon_tableau2 = numpy.array([\"un\", \"deux\", 3, True])\n",
    "print(type(mon_tableau2), mon_tableau2)"
   ]
  },
  {
   "cell_type": "markdown",
   "metadata": {},
   "source": [
    "Tout comme les listes, les tableaux :\n",
    "- sont **ordonnés**\n",
    "- autorisent **plusieurs fois la même valeur**\n",
    "- **ne sont pas modifiables**"
   ]
  },
  {
   "cell_type": "markdown",
   "metadata": {},
   "source": [
    "**Cependant**, \n",
    "\n",
    "- Les listes sont intégrées à Python contrairement aux tableaux\n",
    "- On peut effectuer des opérations mathématiques sur l'ensemble des éléments d'un tableau mais pas d'une liste\n",
    "- Les tableaux sont plus efficaces pour stocker un grand nombre de données, ils prennent moins de mémoire que les listes\n",
    "- Les tableaux sont généralement plus rapides"
   ]
  },
  {
   "cell_type": "code",
   "execution_count": 9,
   "metadata": {},
   "outputs": [
    {
     "name": "stdout",
     "output_type": "stream",
     "text": [
      "[ 1.    3.    7.25 14.   21.25]\n"
     ]
    }
   ],
   "source": [
    "mon_tableau3 = numpy.array([4, 12, 29, 56, 85])\n",
    "\n",
    "div = mon_tableau3 / 4\n",
    "print(div)"
   ]
  },
  {
   "cell_type": "code",
   "execution_count": 10,
   "metadata": {},
   "outputs": [
    {
     "ename": "TypeError",
     "evalue": "unsupported operand type(s) for /: 'list' and 'int'",
     "output_type": "error",
     "traceback": [
      "\u001b[1;31m---------------------------------------------------------------------------\u001b[0m",
      "\u001b[1;31mTypeError\u001b[0m                                 Traceback (most recent call last)",
      "\u001b[1;32m~\\AppData\\Local\\Temp/ipykernel_17528/2924357583.py\u001b[0m in \u001b[0;36m<module>\u001b[1;34m\u001b[0m\n\u001b[0;32m      1\u001b[0m \u001b[0mma_liste2\u001b[0m \u001b[1;33m=\u001b[0m \u001b[1;33m[\u001b[0m\u001b[1;36m4\u001b[0m\u001b[1;33m,\u001b[0m \u001b[1;36m12\u001b[0m\u001b[1;33m,\u001b[0m \u001b[1;36m29\u001b[0m\u001b[1;33m,\u001b[0m \u001b[1;36m56\u001b[0m\u001b[1;33m,\u001b[0m \u001b[1;36m85\u001b[0m\u001b[1;33m]\u001b[0m\u001b[1;33m\u001b[0m\u001b[1;33m\u001b[0m\u001b[0m\n\u001b[0;32m      2\u001b[0m \u001b[1;33m\u001b[0m\u001b[0m\n\u001b[1;32m----> 3\u001b[1;33m \u001b[0mdiv\u001b[0m \u001b[1;33m=\u001b[0m \u001b[0mma_liste2\u001b[0m \u001b[1;33m/\u001b[0m \u001b[1;36m4\u001b[0m\u001b[1;33m\u001b[0m\u001b[1;33m\u001b[0m\u001b[0m\n\u001b[0m\u001b[0;32m      4\u001b[0m \u001b[0mprint\u001b[0m\u001b[1;33m(\u001b[0m\u001b[0mdiv\u001b[0m\u001b[1;33m)\u001b[0m\u001b[1;33m\u001b[0m\u001b[1;33m\u001b[0m\u001b[0m\n",
      "\u001b[1;31mTypeError\u001b[0m: unsupported operand type(s) for /: 'list' and 'int'"
     ]
    }
   ],
   "source": [
    "ma_liste2 = [4, 12, 29, 56, 85]\n",
    "\n",
    "div = ma_liste2 / 4\n",
    "print(div)"
   ]
  }
 ],
 "metadata": {
  "interpreter": {
   "hash": "39b35bf77f4c99e30d0ba35dd3b64eb6a85714d192fb887b1cc603431a84d6e7"
  },
  "kernelspec": {
   "display_name": "Python 3.9.7 64-bit",
   "language": "python",
   "name": "python3"
  },
  "language_info": {
   "codemirror_mode": {
    "name": "ipython",
    "version": 3
   },
   "file_extension": ".py",
   "mimetype": "text/x-python",
   "name": "python",
   "nbconvert_exporter": "python",
   "pygments_lexer": "ipython3",
   "version": "3.9.7"
  },
  "orig_nbformat": 4
 },
 "nbformat": 4,
 "nbformat_minor": 2
}
